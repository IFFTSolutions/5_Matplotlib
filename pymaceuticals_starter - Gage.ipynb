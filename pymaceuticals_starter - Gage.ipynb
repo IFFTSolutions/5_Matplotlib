{
 "cells": [
  {
   "cell_type": "code",
   "execution_count": 55,
   "metadata": {},
   "outputs": [
    {
     "data": {
      "text/html": [
       "<div>\n",
       "<style scoped>\n",
       "    .dataframe tbody tr th:only-of-type {\n",
       "        vertical-align: middle;\n",
       "    }\n",
       "\n",
       "    .dataframe tbody tr th {\n",
       "        vertical-align: top;\n",
       "    }\n",
       "\n",
       "    .dataframe thead th {\n",
       "        text-align: right;\n",
       "    }\n",
       "</style>\n",
       "<table border=\"1\" class=\"dataframe\">\n",
       "  <thead>\n",
       "    <tr style=\"text-align: right;\">\n",
       "      <th></th>\n",
       "      <th>Mouse ID</th>\n",
       "      <th>Timepoint</th>\n",
       "      <th>Tumor Volume (mm3)</th>\n",
       "      <th>Metastatic Sites</th>\n",
       "      <th>Drug</th>\n",
       "    </tr>\n",
       "  </thead>\n",
       "  <tbody>\n",
       "    <tr>\n",
       "      <th>0</th>\n",
       "      <td>b128</td>\n",
       "      <td>0</td>\n",
       "      <td>45.0</td>\n",
       "      <td>0</td>\n",
       "      <td>Capomulin</td>\n",
       "    </tr>\n",
       "    <tr>\n",
       "      <th>1</th>\n",
       "      <td>f932</td>\n",
       "      <td>0</td>\n",
       "      <td>45.0</td>\n",
       "      <td>0</td>\n",
       "      <td>Ketapril</td>\n",
       "    </tr>\n",
       "    <tr>\n",
       "      <th>2</th>\n",
       "      <td>g107</td>\n",
       "      <td>0</td>\n",
       "      <td>45.0</td>\n",
       "      <td>0</td>\n",
       "      <td>Ketapril</td>\n",
       "    </tr>\n",
       "  </tbody>\n",
       "</table>\n",
       "</div>"
      ],
      "text/plain": [
       "  Mouse ID  Timepoint  Tumor Volume (mm3)  Metastatic Sites       Drug\n",
       "0     b128          0                45.0                 0  Capomulin\n",
       "1     f932          0                45.0                 0   Ketapril\n",
       "2     g107          0                45.0                 0   Ketapril"
      ]
     },
     "execution_count": 55,
     "metadata": {},
     "output_type": "execute_result"
    }
   ],
   "source": [
    "from IPython.core.interactiveshell import InteractiveShell\n",
    "InteractiveShell.ast_node_interactivity = \"all\"\n",
    "# Dependencies and Setup\n",
    "%matplotlib inline\n",
    "import matplotlib.pyplot as plt\n",
    "import pandas as pd\n",
    "import numpy as np\n",
    "# Hide warning messages in notebook\n",
    "import warnings\n",
    "warnings.filterwarnings('ignore')\n",
    "# File to Load (Remember to Change These)\n",
    "mouse_data = pd.read_csv(\"data/mouse_drug_data.csv\")\n",
    "clinical_data = pd.read_csv(\"data/clinicaltrial_data.csv\")\n",
    "# Read the Mouse and Drug Data and the Clinical Trial Data\n",
    "\n",
    "#mouse_data.head()\n",
    "#clinical_data.head()\n",
    "\n",
    "# Combine the data into a single dataset\n",
    "combined = pd.merge(clinical_data,mouse_data, how = \"left\",\n",
    "                   on=[\"Mouse ID\", \"Mouse ID\"])\n",
    "# Display the data table for preview\n",
    "combined.head(3)\n",
    "#combined.index\n",
    "#combined.columns"
   ]
  },
  {
   "cell_type": "markdown",
   "metadata": {},
   "source": [
    "Tumor Response to Treatment"
   ]
  },
  {
   "cell_type": "code",
   "execution_count": 142,
   "metadata": {},
   "outputs": [
    {
     "data": {
      "text/plain": [
       "Drug       Timepoint\n",
       "Capomulin  0            45.000000\n",
       "           5            44.266086\n",
       "           10           43.084291\n",
       "           15           42.064317\n",
       "           20           40.716325\n",
       "           25           39.939528\n",
       "           30           38.769339\n",
       "           35           37.816839\n",
       "           40           36.958001\n",
       "           45           36.236114\n",
       "Ceftamin   0            45.000000\n",
       "           5            46.503051\n",
       "           10           48.285125\n",
       "           15           50.094055\n",
       "           20           52.157049\n",
       "           25           54.287674\n",
       "           30           56.769517\n",
       "           35           58.827548\n",
       "           40           61.467895\n",
       "           45           64.132421\n",
       "Infubinol  0            45.000000\n",
       "           5            47.062001\n",
       "           10           49.403909\n",
       "           15           51.296397\n",
       "           20           53.197691\n",
       "           25           55.715252\n",
       "           30           58.299397\n",
       "           35           60.742461\n",
       "           40           63.162824\n",
       "           45           65.755562\n",
       "                          ...    \n",
       "Ramicane   0            45.000000\n",
       "           5            43.944859\n",
       "           10           42.531957\n",
       "           15           41.495061\n",
       "           20           40.238325\n",
       "           25           38.974300\n",
       "           30           38.703137\n",
       "           35           37.451996\n",
       "           40           36.574081\n",
       "           45           34.955595\n",
       "Stelasyn   0            45.000000\n",
       "           5            47.527452\n",
       "           10           49.463844\n",
       "           15           51.529409\n",
       "           20           54.067395\n",
       "           25           56.166123\n",
       "           30           59.826738\n",
       "           35           62.440699\n",
       "           40           65.356386\n",
       "           45           68.438310\n",
       "Zoniferol  0            45.000000\n",
       "           5            46.851818\n",
       "           10           48.689881\n",
       "           15           50.779059\n",
       "           20           53.170334\n",
       "           25           55.432935\n",
       "           30           57.713531\n",
       "           35           60.089372\n",
       "           40           62.916692\n",
       "           45           65.960888\n",
       "Name: Tumor Volume (mm3), Length: 100, dtype: float64"
      ]
     },
     "execution_count": 142,
     "metadata": {},
     "output_type": "execute_result"
    },
    {
     "data": {
      "text/html": [
       "<div>\n",
       "<style scoped>\n",
       "    .dataframe tbody tr th:only-of-type {\n",
       "        vertical-align: middle;\n",
       "    }\n",
       "\n",
       "    .dataframe tbody tr th {\n",
       "        vertical-align: top;\n",
       "    }\n",
       "\n",
       "    .dataframe thead th {\n",
       "        text-align: right;\n",
       "    }\n",
       "</style>\n",
       "<table border=\"1\" class=\"dataframe\">\n",
       "  <thead>\n",
       "    <tr style=\"text-align: right;\">\n",
       "      <th></th>\n",
       "      <th>Drug</th>\n",
       "      <th>Timepoint</th>\n",
       "      <th>Mean_Tumor_Volume</th>\n",
       "    </tr>\n",
       "  </thead>\n",
       "  <tbody>\n",
       "    <tr>\n",
       "      <th>0</th>\n",
       "      <td>Capomulin</td>\n",
       "      <td>0</td>\n",
       "      <td>45.000000</td>\n",
       "    </tr>\n",
       "    <tr>\n",
       "      <th>1</th>\n",
       "      <td>Capomulin</td>\n",
       "      <td>5</td>\n",
       "      <td>44.266086</td>\n",
       "    </tr>\n",
       "    <tr>\n",
       "      <th>2</th>\n",
       "      <td>Capomulin</td>\n",
       "      <td>10</td>\n",
       "      <td>43.084291</td>\n",
       "    </tr>\n",
       "    <tr>\n",
       "      <th>3</th>\n",
       "      <td>Capomulin</td>\n",
       "      <td>15</td>\n",
       "      <td>42.064317</td>\n",
       "    </tr>\n",
       "    <tr>\n",
       "      <th>4</th>\n",
       "      <td>Capomulin</td>\n",
       "      <td>20</td>\n",
       "      <td>40.716325</td>\n",
       "    </tr>\n",
       "  </tbody>\n",
       "</table>\n",
       "</div>"
      ],
      "text/plain": [
       "        Drug  Timepoint  Mean_Tumor_Volume\n",
       "0  Capomulin          0          45.000000\n",
       "1  Capomulin          5          44.266086\n",
       "2  Capomulin         10          43.084291\n",
       "3  Capomulin         15          42.064317\n",
       "4  Capomulin         20          40.716325"
      ]
     },
     "execution_count": 142,
     "metadata": {},
     "output_type": "execute_result"
    }
   ],
   "source": [
    "# Store the Mean Tumor Volume Data Grouped by Drug and Timepoint \n",
    "Mean_Tumor  = combined.groupby([\"Drug\",\"Timepoint\"])[\"Tumor Volume (mm3)\"].mean()\n",
    "Mean_Tumor_df = Mean_Tumor.to_frame()\n",
    "Mean_Tumor_df = Mean_Tumor_df.rename(columns={\"Tumor Volume (mm3)\":\"Mean_Tumor_Volume\"})\n",
    "Mean_Tumor_df = Mean_Tumor_df.reset_index()\n",
    "Mean_Tumor_df.head(5)"
   ]
  },
  {
   "cell_type": "code",
   "execution_count": 3,
   "metadata": {},
   "outputs": [
    {
     "data": {
      "text/html": [
       "<div>\n",
       "<style scoped>\n",
       "    .dataframe tbody tr th:only-of-type {\n",
       "        vertical-align: middle;\n",
       "    }\n",
       "\n",
       "    .dataframe tbody tr th {\n",
       "        vertical-align: top;\n",
       "    }\n",
       "\n",
       "    .dataframe thead th {\n",
       "        text-align: right;\n",
       "    }\n",
       "</style>\n",
       "<table border=\"1\" class=\"dataframe\">\n",
       "  <thead>\n",
       "    <tr style=\"text-align: right;\">\n",
       "      <th></th>\n",
       "      <th>Drug</th>\n",
       "      <th>Timepoint</th>\n",
       "      <th>SE_of_Tumor_Volume</th>\n",
       "    </tr>\n",
       "  </thead>\n",
       "  <tbody>\n",
       "    <tr>\n",
       "      <th>0</th>\n",
       "      <td>Capomulin</td>\n",
       "      <td>0</td>\n",
       "      <td>0.000000</td>\n",
       "    </tr>\n",
       "    <tr>\n",
       "      <th>1</th>\n",
       "      <td>Capomulin</td>\n",
       "      <td>5</td>\n",
       "      <td>0.448593</td>\n",
       "    </tr>\n",
       "    <tr>\n",
       "      <th>2</th>\n",
       "      <td>Capomulin</td>\n",
       "      <td>10</td>\n",
       "      <td>0.702684</td>\n",
       "    </tr>\n",
       "    <tr>\n",
       "      <th>3</th>\n",
       "      <td>Capomulin</td>\n",
       "      <td>15</td>\n",
       "      <td>0.838617</td>\n",
       "    </tr>\n",
       "    <tr>\n",
       "      <th>4</th>\n",
       "      <td>Capomulin</td>\n",
       "      <td>20</td>\n",
       "      <td>0.909731</td>\n",
       "    </tr>\n",
       "  </tbody>\n",
       "</table>\n",
       "</div>"
      ],
      "text/plain": [
       "        Drug  Timepoint  SE_of_Tumor_Volume\n",
       "0  Capomulin          0            0.000000\n",
       "1  Capomulin          5            0.448593\n",
       "2  Capomulin         10            0.702684\n",
       "3  Capomulin         15            0.838617\n",
       "4  Capomulin         20            0.909731"
      ]
     },
     "execution_count": 3,
     "metadata": {},
     "output_type": "execute_result"
    }
   ],
   "source": [
    "# Store the Standard Error of Tumor Volumes Grouped by Drug and Timepoint\n",
    "SEM_Tumor  = combined.groupby([\"Drug\",\"Timepoint\"])[\"Tumor Volume (mm3)\"].sem()\n",
    "SEM_Tumor_df = SEM_Tumor.to_frame()\n",
    "SEM_Tumor_df = SEM_Tumor_df.rename(columns={\"Tumor Volume (mm3)\":\"SE_of_Tumor_Volume\"})\n",
    "SEM_Tumor_df = SEM_Tumor_df.reset_index()\n",
    "\n",
    "SEM_Tumor_df.head(5)"
   ]
  },
  {
   "cell_type": "code",
   "execution_count": 64,
   "metadata": {},
   "outputs": [
    {
     "data": {
      "text/html": [
       "<div>\n",
       "<style scoped>\n",
       "    .dataframe tbody tr th:only-of-type {\n",
       "        vertical-align: middle;\n",
       "    }\n",
       "\n",
       "    .dataframe tbody tr th {\n",
       "        vertical-align: top;\n",
       "    }\n",
       "\n",
       "    .dataframe thead th {\n",
       "        text-align: right;\n",
       "    }\n",
       "</style>\n",
       "<table border=\"1\" class=\"dataframe\">\n",
       "  <thead>\n",
       "    <tr style=\"text-align: right;\">\n",
       "      <th>Drug</th>\n",
       "      <th>Capomulin</th>\n",
       "      <th>Ceftamin</th>\n",
       "      <th>Infubinol</th>\n",
       "      <th>Ketapril</th>\n",
       "      <th>Naftisol</th>\n",
       "      <th>Placebo</th>\n",
       "      <th>Propriva</th>\n",
       "      <th>Ramicane</th>\n",
       "      <th>Stelasyn</th>\n",
       "      <th>Zoniferol</th>\n",
       "    </tr>\n",
       "    <tr>\n",
       "      <th>Timepoint</th>\n",
       "      <th></th>\n",
       "      <th></th>\n",
       "      <th></th>\n",
       "      <th></th>\n",
       "      <th></th>\n",
       "      <th></th>\n",
       "      <th></th>\n",
       "      <th></th>\n",
       "      <th></th>\n",
       "      <th></th>\n",
       "    </tr>\n",
       "  </thead>\n",
       "  <tbody>\n",
       "    <tr>\n",
       "      <th>0</th>\n",
       "      <td>45.000000</td>\n",
       "      <td>45.000000</td>\n",
       "      <td>45.000000</td>\n",
       "      <td>45.000000</td>\n",
       "      <td>45.000000</td>\n",
       "      <td>45.000000</td>\n",
       "      <td>45.000000</td>\n",
       "      <td>45.000000</td>\n",
       "      <td>45.000000</td>\n",
       "      <td>45.000000</td>\n",
       "    </tr>\n",
       "    <tr>\n",
       "      <th>5</th>\n",
       "      <td>44.266086</td>\n",
       "      <td>46.503051</td>\n",
       "      <td>47.062001</td>\n",
       "      <td>47.389175</td>\n",
       "      <td>46.796098</td>\n",
       "      <td>47.125589</td>\n",
       "      <td>47.248967</td>\n",
       "      <td>43.944859</td>\n",
       "      <td>47.527452</td>\n",
       "      <td>46.851818</td>\n",
       "    </tr>\n",
       "    <tr>\n",
       "      <th>10</th>\n",
       "      <td>43.084291</td>\n",
       "      <td>48.285125</td>\n",
       "      <td>49.403909</td>\n",
       "      <td>49.582269</td>\n",
       "      <td>48.694210</td>\n",
       "      <td>49.423329</td>\n",
       "      <td>49.101541</td>\n",
       "      <td>42.531957</td>\n",
       "      <td>49.463844</td>\n",
       "      <td>48.689881</td>\n",
       "    </tr>\n",
       "    <tr>\n",
       "      <th>15</th>\n",
       "      <td>42.064317</td>\n",
       "      <td>50.094055</td>\n",
       "      <td>51.296397</td>\n",
       "      <td>52.399974</td>\n",
       "      <td>50.933018</td>\n",
       "      <td>51.359742</td>\n",
       "      <td>51.067318</td>\n",
       "      <td>41.495061</td>\n",
       "      <td>51.529409</td>\n",
       "      <td>50.779059</td>\n",
       "    </tr>\n",
       "    <tr>\n",
       "      <th>20</th>\n",
       "      <td>40.716325</td>\n",
       "      <td>52.157049</td>\n",
       "      <td>53.197691</td>\n",
       "      <td>54.920935</td>\n",
       "      <td>53.644087</td>\n",
       "      <td>54.364417</td>\n",
       "      <td>53.346737</td>\n",
       "      <td>40.238325</td>\n",
       "      <td>54.067395</td>\n",
       "      <td>53.170334</td>\n",
       "    </tr>\n",
       "    <tr>\n",
       "      <th>25</th>\n",
       "      <td>39.939528</td>\n",
       "      <td>54.287674</td>\n",
       "      <td>55.715252</td>\n",
       "      <td>57.678982</td>\n",
       "      <td>56.731968</td>\n",
       "      <td>57.482574</td>\n",
       "      <td>55.504138</td>\n",
       "      <td>38.974300</td>\n",
       "      <td>56.166123</td>\n",
       "      <td>55.432935</td>\n",
       "    </tr>\n",
       "    <tr>\n",
       "      <th>30</th>\n",
       "      <td>38.769339</td>\n",
       "      <td>56.769517</td>\n",
       "      <td>58.299397</td>\n",
       "      <td>60.994507</td>\n",
       "      <td>59.559509</td>\n",
       "      <td>59.809063</td>\n",
       "      <td>58.196374</td>\n",
       "      <td>38.703137</td>\n",
       "      <td>59.826738</td>\n",
       "      <td>57.713531</td>\n",
       "    </tr>\n",
       "    <tr>\n",
       "      <th>35</th>\n",
       "      <td>37.816839</td>\n",
       "      <td>58.827548</td>\n",
       "      <td>60.742461</td>\n",
       "      <td>63.371686</td>\n",
       "      <td>62.685087</td>\n",
       "      <td>62.420615</td>\n",
       "      <td>60.350199</td>\n",
       "      <td>37.451996</td>\n",
       "      <td>62.440699</td>\n",
       "      <td>60.089372</td>\n",
       "    </tr>\n",
       "    <tr>\n",
       "      <th>40</th>\n",
       "      <td>36.958001</td>\n",
       "      <td>61.467895</td>\n",
       "      <td>63.162824</td>\n",
       "      <td>66.068580</td>\n",
       "      <td>65.600754</td>\n",
       "      <td>65.052675</td>\n",
       "      <td>63.045537</td>\n",
       "      <td>36.574081</td>\n",
       "      <td>65.356386</td>\n",
       "      <td>62.916692</td>\n",
       "    </tr>\n",
       "    <tr>\n",
       "      <th>45</th>\n",
       "      <td>36.236114</td>\n",
       "      <td>64.132421</td>\n",
       "      <td>65.755562</td>\n",
       "      <td>70.662958</td>\n",
       "      <td>69.265506</td>\n",
       "      <td>68.084082</td>\n",
       "      <td>66.258529</td>\n",
       "      <td>34.955595</td>\n",
       "      <td>68.438310</td>\n",
       "      <td>65.960888</td>\n",
       "    </tr>\n",
       "  </tbody>\n",
       "</table>\n",
       "</div>"
      ],
      "text/plain": [
       "Drug       Capomulin   Ceftamin  Infubinol   Ketapril   Naftisol    Placebo  \\\n",
       "Timepoint                                                                     \n",
       "0          45.000000  45.000000  45.000000  45.000000  45.000000  45.000000   \n",
       "5          44.266086  46.503051  47.062001  47.389175  46.796098  47.125589   \n",
       "10         43.084291  48.285125  49.403909  49.582269  48.694210  49.423329   \n",
       "15         42.064317  50.094055  51.296397  52.399974  50.933018  51.359742   \n",
       "20         40.716325  52.157049  53.197691  54.920935  53.644087  54.364417   \n",
       "25         39.939528  54.287674  55.715252  57.678982  56.731968  57.482574   \n",
       "30         38.769339  56.769517  58.299397  60.994507  59.559509  59.809063   \n",
       "35         37.816839  58.827548  60.742461  63.371686  62.685087  62.420615   \n",
       "40         36.958001  61.467895  63.162824  66.068580  65.600754  65.052675   \n",
       "45         36.236114  64.132421  65.755562  70.662958  69.265506  68.084082   \n",
       "\n",
       "Drug        Propriva   Ramicane   Stelasyn  Zoniferol  \n",
       "Timepoint                                              \n",
       "0          45.000000  45.000000  45.000000  45.000000  \n",
       "5          47.248967  43.944859  47.527452  46.851818  \n",
       "10         49.101541  42.531957  49.463844  48.689881  \n",
       "15         51.067318  41.495061  51.529409  50.779059  \n",
       "20         53.346737  40.238325  54.067395  53.170334  \n",
       "25         55.504138  38.974300  56.166123  55.432935  \n",
       "30         58.196374  38.703137  59.826738  57.713531  \n",
       "35         60.350199  37.451996  62.440699  60.089372  \n",
       "40         63.045537  36.574081  65.356386  62.916692  \n",
       "45         66.258529  34.955595  68.438310  65.960888  "
      ]
     },
     "execution_count": 64,
     "metadata": {},
     "output_type": "execute_result"
    },
    {
     "data": {
      "text/plain": [
       "Index(['Capomulin', 'Ceftamin', 'Infubinol', 'Ketapril', 'Naftisol', 'Placebo',\n",
       "       'Propriva', 'Ramicane', 'Stelasyn', 'Zoniferol'],\n",
       "      dtype='object', name='Drug')"
      ]
     },
     "execution_count": 64,
     "metadata": {},
     "output_type": "execute_result"
    },
    {
     "data": {
      "text/plain": [
       "Int64Index([0, 5, 10, 15, 20, 25, 30, 35, 40, 45], dtype='int64', name='Timepoint')"
      ]
     },
     "execution_count": 64,
     "metadata": {},
     "output_type": "execute_result"
    }
   ],
   "source": [
    "# Minor Data Munging to Re-Format the Data Frames\n",
    "df = Mean_Tumor_df.pivot(index='Timepoint',columns='Drug',values='Mean_Tumor_Volume')\n",
    "df.head(10)\n",
    "df.columns\n",
    "df.index"
   ]
  },
  {
   "cell_type": "code",
   "execution_count": 16,
   "metadata": {},
   "outputs": [
    {
     "data": {
      "text/plain": [
       "<ErrorbarContainer object of 3 artists>"
      ]
     },
     "execution_count": 16,
     "metadata": {},
     "output_type": "execute_result"
    },
    {
     "data": {
      "text/plain": [
       "<ErrorbarContainer object of 3 artists>"
      ]
     },
     "execution_count": 16,
     "metadata": {},
     "output_type": "execute_result"
    },
    {
     "data": {
      "text/plain": [
       "<ErrorbarContainer object of 3 artists>"
      ]
     },
     "execution_count": 16,
     "metadata": {},
     "output_type": "execute_result"
    },
    {
     "data": {
      "text/plain": [
       "<ErrorbarContainer object of 3 artists>"
      ]
     },
     "execution_count": 16,
     "metadata": {},
     "output_type": "execute_result"
    },
    {
     "data": {
      "text/plain": [
       "<matplotlib.legend.Legend at 0x20c6bf10550>"
      ]
     },
     "execution_count": 16,
     "metadata": {},
     "output_type": "execute_result"
    },
    {
     "data": {
      "text/plain": [
       "Text(0.5, 1.0, 'Tumor Response to Treatment')"
      ]
     },
     "execution_count": 16,
     "metadata": {},
     "output_type": "execute_result"
    },
    {
     "data": {
      "text/plain": [
       "Text(0.5, 0, 'Time (Days)')"
      ]
     },
     "execution_count": 16,
     "metadata": {},
     "output_type": "execute_result"
    },
    {
     "data": {
      "text/plain": [
       "Text(0, 0.5, 'Tumor Volume (mm3)')"
      ]
     },
     "execution_count": 16,
     "metadata": {},
     "output_type": "execute_result"
    },
    {
     "data": {
      "image/png": "[encoded data removed]",
      "text/plain": [
       "<Figure size 432x288 with 1 Axes>"
      ]
     },
     "metadata": {
      "needs_background": "light"
     },
     "output_type": "display_data"
    }
   ],
   "source": [
    "# Generate the Plot (with Error Bars)\n",
    "#plt.scatter(weather_data[\"lat\"], weather_data[\"temp\"], marker=\"o\")\n",
    "\n",
    "Drugs = df[[\"Capomulin\", \"Infubinol\", \"Ketapril\", \"Placebo\"]]\n",
    "\n",
    "x_axis = df.index.values\n",
    "\n",
    "Cap_SEM = SEM_Tumor_df.loc[SEM_Tumor_df['Drug']=='Capomulin']\n",
    "Cap_SEM = Cap_SEM[\"SE_of_Tumor_Volume\"]\n",
    "Inf_SEM = SEM_Tumor_df.loc[SEM_Tumor_df['Drug']=='Infubinol']\n",
    "Inf_SEM = Inf_SEM[\"SE_of_Tumor_Volume\"]\n",
    "Ket_SEM = SEM_Tumor_df.loc[SEM_Tumor_df['Drug']=='Ketapril']\n",
    "Ket_SEM = Ket_SEM[\"SE_of_Tumor_Volume\"]\n",
    "Pla_SEM = SEM_Tumor_df.loc[SEM_Tumor_df['Drug']=='Placebo']\n",
    "Pla_SEM = Pla_SEM[\"SE_of_Tumor_Volume\"]\n",
    "\n",
    "Cap_MN = Drugs[\"Capomulin\"]\n",
    "Inf_MN = Drugs[\"Infubinol\"]\n",
    "Ket_MN = Drugs[\"Ketapril\"]\n",
    "Pla_MN = Drugs[\"Placebo\"]\n",
    "\n",
    "fig, ax = plt.subplots()\n",
    "#kwargs = dict(ecolor='k', color='k', capsize=2,\n",
    "              #elinewidth=1.1, linewidth=0.6, ms=7)\n",
    "\n",
    "ax.errorbar(x_axis, Drugs[\"Capomulin\"], yerr = Cap_SEM, fmt=\"o\",ls='-',linewidth=0.6,linestyle='dashed',elinewidth=0.95,markersize=5)\n",
    "ax.errorbar(x_axis, Drugs[\"Infubinol\"], yerr = Inf_SEM, fmt=\"x\",ls='-',linewidth=0.6,linestyle='dashed',elinewidth=0.95,markersize=5)\n",
    "ax.errorbar(x_axis, Drugs[\"Ketapril\"], yerr = Ket_SEM, fmt=\"*\",ls='-',linewidth=0.6,linestyle='dashed',elinewidth=0.95,markersize=5)\n",
    "ax.errorbar(x_axis, Drugs[\"Placebo\"], yerr = Pla_SEM, fmt=\"^\",ls='-',linewidth=0.6,linestyle='dashed',elinewidth=0.95,markersize=5)\n",
    "\n",
    "# Adding legend to the plot    \n",
    "ax.legend(loc='best', frameon=True)\n",
    "ax.set_title('Tumor Response to Treatment', fontsize=12)\n",
    "ax.set_xlabel('Time (Days)', fontsize=10)\n",
    "ax.set_ylabel('Tumor Volume (mm3)', fontsize=10)\n",
    "ax.grid(True)\n",
    "plt.savefig(\"Tumor Response to Treatment\")\n",
    "plt.show()\n"
   ]
  },
  {
   "cell_type": "markdown",
   "metadata": {},
   "source": [
    "## Metastatic Response to Treatment"
   ]
  },
  {
   "cell_type": "code",
   "execution_count": 9,
   "metadata": {},
   "outputs": [
    {
     "data": {
      "text/html": [
       "<div>\n",
       "<style scoped>\n",
       "    .dataframe tbody tr th:only-of-type {\n",
       "        vertical-align: middle;\n",
       "    }\n",
       "\n",
       "    .dataframe tbody tr th {\n",
       "        vertical-align: top;\n",
       "    }\n",
       "\n",
       "    .dataframe thead th {\n",
       "        text-align: right;\n",
       "    }\n",
       "</style>\n",
       "<table border=\"1\" class=\"dataframe\">\n",
       "  <thead>\n",
       "    <tr style=\"text-align: right;\">\n",
       "      <th></th>\n",
       "      <th></th>\n",
       "      <th>Metastatic Sites</th>\n",
       "    </tr>\n",
       "    <tr>\n",
       "      <th>Drug</th>\n",
       "      <th>Timepoint</th>\n",
       "      <th></th>\n",
       "    </tr>\n",
       "  </thead>\n",
       "  <tbody>\n",
       "    <tr>\n",
       "      <th rowspan=\"5\" valign=\"top\">Capomulin</th>\n",
       "      <th>0</th>\n",
       "      <td>0.000000</td>\n",
       "    </tr>\n",
       "    <tr>\n",
       "      <th>5</th>\n",
       "      <td>0.160000</td>\n",
       "    </tr>\n",
       "    <tr>\n",
       "      <th>10</th>\n",
       "      <td>0.320000</td>\n",
       "    </tr>\n",
       "    <tr>\n",
       "      <th>15</th>\n",
       "      <td>0.375000</td>\n",
       "    </tr>\n",
       "    <tr>\n",
       "      <th>20</th>\n",
       "      <td>0.652174</td>\n",
       "    </tr>\n",
       "  </tbody>\n",
       "</table>\n",
       "</div>"
      ],
      "text/plain": [
       "                     Metastatic Sites\n",
       "Drug      Timepoint                  \n",
       "Capomulin 0                  0.000000\n",
       "          5                  0.160000\n",
       "          10                 0.320000\n",
       "          15                 0.375000\n",
       "          20                 0.652174"
      ]
     },
     "execution_count": 9,
     "metadata": {},
     "output_type": "execute_result"
    },
    {
     "data": {
      "text/html": [
       "<div>\n",
       "<style scoped>\n",
       "    .dataframe tbody tr th:only-of-type {\n",
       "        vertical-align: middle;\n",
       "    }\n",
       "\n",
       "    .dataframe tbody tr th {\n",
       "        vertical-align: top;\n",
       "    }\n",
       "\n",
       "    .dataframe thead th {\n",
       "        text-align: right;\n",
       "    }\n",
       "</style>\n",
       "<table border=\"1\" class=\"dataframe\">\n",
       "  <thead>\n",
       "    <tr style=\"text-align: right;\">\n",
       "      <th></th>\n",
       "      <th>Drug</th>\n",
       "      <th>Timepoint</th>\n",
       "      <th>Mean_Metastatic_Sites</th>\n",
       "    </tr>\n",
       "  </thead>\n",
       "  <tbody>\n",
       "    <tr>\n",
       "      <th>0</th>\n",
       "      <td>Capomulin</td>\n",
       "      <td>0</td>\n",
       "      <td>0.000000</td>\n",
       "    </tr>\n",
       "    <tr>\n",
       "      <th>1</th>\n",
       "      <td>Capomulin</td>\n",
       "      <td>5</td>\n",
       "      <td>0.160000</td>\n",
       "    </tr>\n",
       "    <tr>\n",
       "      <th>2</th>\n",
       "      <td>Capomulin</td>\n",
       "      <td>10</td>\n",
       "      <td>0.320000</td>\n",
       "    </tr>\n",
       "    <tr>\n",
       "      <th>3</th>\n",
       "      <td>Capomulin</td>\n",
       "      <td>15</td>\n",
       "      <td>0.375000</td>\n",
       "    </tr>\n",
       "    <tr>\n",
       "      <th>4</th>\n",
       "      <td>Capomulin</td>\n",
       "      <td>20</td>\n",
       "      <td>0.652174</td>\n",
       "    </tr>\n",
       "  </tbody>\n",
       "</table>\n",
       "</div>"
      ],
      "text/plain": [
       "        Drug  Timepoint  Mean_Metastatic_Sites\n",
       "0  Capomulin          0               0.000000\n",
       "1  Capomulin          5               0.160000\n",
       "2  Capomulin         10               0.320000\n",
       "3  Capomulin         15               0.375000\n",
       "4  Capomulin         20               0.652174"
      ]
     },
     "execution_count": 9,
     "metadata": {},
     "output_type": "execute_result"
    }
   ],
   "source": [
    "# Store the Mean Met. Site Data Grouped by Drug and Timepoint \n",
    "Mean_Met  = combined.groupby([\"Drug\",\"Timepoint\"])[\"Metastatic Sites\"].mean()\n",
    "Mean_Met_df = Mean_Met.to_frame()\n",
    "Mean_Met_df.head(5)\n",
    "Mean_Met_df = Mean_Met_df.rename(columns={\"Metastatic Sites\":\"Mean_Metastatic_Sites\"})\n",
    "Mean_Met_df = Mean_Met_df.reset_index()\n",
    "Mean_Met_df.head(5)\n",
    "\n"
   ]
  },
  {
   "cell_type": "code",
   "execution_count": null,
   "metadata": {},
   "outputs": [],
   "source": []
  },
  {
   "cell_type": "code",
   "execution_count": 10,
   "metadata": {},
   "outputs": [
    {
     "data": {
      "text/html": [
       "<div>\n",
       "<style scoped>\n",
       "    .dataframe tbody tr th:only-of-type {\n",
       "        vertical-align: middle;\n",
       "    }\n",
       "\n",
       "    .dataframe tbody tr th {\n",
       "        vertical-align: top;\n",
       "    }\n",
       "\n",
       "    .dataframe thead th {\n",
       "        text-align: right;\n",
       "    }\n",
       "</style>\n",
       "<table border=\"1\" class=\"dataframe\">\n",
       "  <thead>\n",
       "    <tr style=\"text-align: right;\">\n",
       "      <th></th>\n",
       "      <th>Drug</th>\n",
       "      <th>Timepoint</th>\n",
       "      <th>SE_of_Metastatic Sites</th>\n",
       "    </tr>\n",
       "  </thead>\n",
       "  <tbody>\n",
       "    <tr>\n",
       "      <th>0</th>\n",
       "      <td>Capomulin</td>\n",
       "      <td>0</td>\n",
       "      <td>0.000000</td>\n",
       "    </tr>\n",
       "    <tr>\n",
       "      <th>1</th>\n",
       "      <td>Capomulin</td>\n",
       "      <td>5</td>\n",
       "      <td>0.074833</td>\n",
       "    </tr>\n",
       "    <tr>\n",
       "      <th>2</th>\n",
       "      <td>Capomulin</td>\n",
       "      <td>10</td>\n",
       "      <td>0.125433</td>\n",
       "    </tr>\n",
       "    <tr>\n",
       "      <th>3</th>\n",
       "      <td>Capomulin</td>\n",
       "      <td>15</td>\n",
       "      <td>0.132048</td>\n",
       "    </tr>\n",
       "    <tr>\n",
       "      <th>4</th>\n",
       "      <td>Capomulin</td>\n",
       "      <td>20</td>\n",
       "      <td>0.161621</td>\n",
       "    </tr>\n",
       "  </tbody>\n",
       "</table>\n",
       "</div>"
      ],
      "text/plain": [
       "        Drug  Timepoint  SE_of_Metastatic Sites\n",
       "0  Capomulin          0                0.000000\n",
       "1  Capomulin          5                0.074833\n",
       "2  Capomulin         10                0.125433\n",
       "3  Capomulin         15                0.132048\n",
       "4  Capomulin         20                0.161621"
      ]
     },
     "execution_count": 10,
     "metadata": {},
     "output_type": "execute_result"
    }
   ],
   "source": [
    "# Store the Standard Error associated with Met. Sites Grouped by Drug and Timepoint \n",
    "SEM_Met  = combined.groupby([\"Drug\",\"Timepoint\"])[\"Metastatic Sites\"].sem()\n",
    "SEM_Met_df = SEM_Met.to_frame()\n",
    "SEM_Met_df = SEM_Met_df.rename(columns={\"Metastatic Sites\":\"SE_of_Metastatic Sites\"})\n",
    "SEM_Met_df = SEM_Met_df.reset_index()\n",
    "\n",
    "SEM_Met_df.head(5)\n",
    "# Convert to DataFrame\n",
    "\n",
    "# Preview DataFrame\n"
   ]
  },
  {
   "cell_type": "code",
   "execution_count": null,
   "metadata": {},
   "outputs": [],
   "source": []
  },
  {
   "cell_type": "code",
   "execution_count": 53,
   "metadata": {},
   "outputs": [
    {
     "data": {
      "text/html": [
       "<div>\n",
       "<style scoped>\n",
       "    .dataframe tbody tr th:only-of-type {\n",
       "        vertical-align: middle;\n",
       "    }\n",
       "\n",
       "    .dataframe tbody tr th {\n",
       "        vertical-align: top;\n",
       "    }\n",
       "\n",
       "    .dataframe thead th {\n",
       "        text-align: right;\n",
       "    }\n",
       "</style>\n",
       "<table border=\"1\" class=\"dataframe\">\n",
       "  <thead>\n",
       "    <tr style=\"text-align: right;\">\n",
       "      <th>Drug</th>\n",
       "      <th>Capomulin</th>\n",
       "      <th>Ceftamin</th>\n",
       "      <th>Infubinol</th>\n",
       "      <th>Ketapril</th>\n",
       "      <th>Naftisol</th>\n",
       "      <th>Placebo</th>\n",
       "      <th>Propriva</th>\n",
       "      <th>Ramicane</th>\n",
       "      <th>Stelasyn</th>\n",
       "      <th>Zoniferol</th>\n",
       "    </tr>\n",
       "    <tr>\n",
       "      <th>Timepoint</th>\n",
       "      <th></th>\n",
       "      <th></th>\n",
       "      <th></th>\n",
       "      <th></th>\n",
       "      <th></th>\n",
       "      <th></th>\n",
       "      <th></th>\n",
       "      <th></th>\n",
       "      <th></th>\n",
       "      <th></th>\n",
       "    </tr>\n",
       "  </thead>\n",
       "  <tbody>\n",
       "    <tr>\n",
       "      <th>0</th>\n",
       "      <td>0.00</td>\n",
       "      <td>0.000000</td>\n",
       "      <td>0.000000</td>\n",
       "      <td>0.000000</td>\n",
       "      <td>0.00000</td>\n",
       "      <td>0.000000</td>\n",
       "      <td>0.000000</td>\n",
       "      <td>0.00</td>\n",
       "      <td>0.000000</td>\n",
       "      <td>0.000000</td>\n",
       "    </tr>\n",
       "    <tr>\n",
       "      <th>5</th>\n",
       "      <td>0.16</td>\n",
       "      <td>0.380952</td>\n",
       "      <td>0.280000</td>\n",
       "      <td>0.304348</td>\n",
       "      <td>0.26087</td>\n",
       "      <td>0.375000</td>\n",
       "      <td>0.320000</td>\n",
       "      <td>0.12</td>\n",
       "      <td>0.240000</td>\n",
       "      <td>0.166667</td>\n",
       "    </tr>\n",
       "    <tr>\n",
       "      <th>10</th>\n",
       "      <td>0.32</td>\n",
       "      <td>0.600000</td>\n",
       "      <td>0.666667</td>\n",
       "      <td>0.590909</td>\n",
       "      <td>0.52381</td>\n",
       "      <td>0.833333</td>\n",
       "      <td>0.565217</td>\n",
       "      <td>0.25</td>\n",
       "      <td>0.478261</td>\n",
       "      <td>0.500000</td>\n",
       "    </tr>\n",
       "  </tbody>\n",
       "</table>\n",
       "</div>"
      ],
      "text/plain": [
       "Drug       Capomulin  Ceftamin  Infubinol  Ketapril  Naftisol   Placebo  \\\n",
       "Timepoint                                                                 \n",
       "0               0.00  0.000000   0.000000  0.000000   0.00000  0.000000   \n",
       "5               0.16  0.380952   0.280000  0.304348   0.26087  0.375000   \n",
       "10              0.32  0.600000   0.666667  0.590909   0.52381  0.833333   \n",
       "\n",
       "Drug       Propriva  Ramicane  Stelasyn  Zoniferol  \n",
       "Timepoint                                           \n",
       "0          0.000000      0.00  0.000000   0.000000  \n",
       "5          0.320000      0.12  0.240000   0.166667  \n",
       "10         0.565217      0.25  0.478261   0.500000  "
      ]
     },
     "execution_count": 53,
     "metadata": {},
     "output_type": "execute_result"
    },
    {
     "data": {
      "text/plain": [
       "Index(['Capomulin', 'Ceftamin', 'Infubinol', 'Ketapril', 'Naftisol', 'Placebo',\n",
       "       'Propriva', 'Ramicane', 'Stelasyn', 'Zoniferol'],\n",
       "      dtype='object', name='Drug')"
      ]
     },
     "execution_count": 53,
     "metadata": {},
     "output_type": "execute_result"
    },
    {
     "data": {
      "text/plain": [
       "Int64Index([0, 5, 10, 15, 20, 25, 30, 35, 40, 45], dtype='int64', name='Timepoint')"
      ]
     },
     "execution_count": 53,
     "metadata": {},
     "output_type": "execute_result"
    }
   ],
   "source": [
    "# Minor Data Munging to Re-Format the Data Frames\n",
    "dff = Mean_Met_df.pivot(index='Timepoint',columns='Drug',values='Mean_Metastatic_Sites')\n",
    "dff.head(3)\n",
    "dff.columns\n",
    "dff.index\n",
    "# Preview that Reformatting worked\n"
   ]
  },
  {
   "cell_type": "code",
   "execution_count": null,
   "metadata": {
    "scrolled": true
   },
   "outputs": [],
   "source": []
  },
  {
   "cell_type": "code",
   "execution_count": 17,
   "metadata": {},
   "outputs": [
    {
     "data": {
      "text/plain": [
       "<ErrorbarContainer object of 3 artists>"
      ]
     },
     "execution_count": 17,
     "metadata": {},
     "output_type": "execute_result"
    },
    {
     "data": {
      "text/plain": [
       "<ErrorbarContainer object of 3 artists>"
      ]
     },
     "execution_count": 17,
     "metadata": {},
     "output_type": "execute_result"
    },
    {
     "data": {
      "text/plain": [
       "<ErrorbarContainer object of 3 artists>"
      ]
     },
     "execution_count": 17,
     "metadata": {},
     "output_type": "execute_result"
    },
    {
     "data": {
      "text/plain": [
       "<ErrorbarContainer object of 3 artists>"
      ]
     },
     "execution_count": 17,
     "metadata": {},
     "output_type": "execute_result"
    },
    {
     "data": {
      "text/plain": [
       "<matplotlib.legend.Legend at 0x20c6bfad9b0>"
      ]
     },
     "execution_count": 17,
     "metadata": {},
     "output_type": "execute_result"
    },
    {
     "data": {
      "text/plain": [
       "Text(0.5, 1.0, 'Metastatic Spread During Treatment')"
      ]
     },
     "execution_count": 17,
     "metadata": {},
     "output_type": "execute_result"
    },
    {
     "data": {
      "text/plain": [
       "Text(0.5, 0, 'Treatment Duration (Days)')"
      ]
     },
     "execution_count": 17,
     "metadata": {},
     "output_type": "execute_result"
    },
    {
     "data": {
      "text/plain": [
       "Text(0, 0.5, 'Met.Sites')"
      ]
     },
     "execution_count": 17,
     "metadata": {},
     "output_type": "execute_result"
    },
    {
     "data": {
      "image/png": "[encoded data removed]",
      "text/plain": [
       "<Figure size 432x288 with 1 Axes>"
      ]
     },
     "metadata": {
      "needs_background": "light"
     },
     "output_type": "display_data"
    }
   ],
   "source": [
    "# Generate the Plot (with Error Bars)\n",
    "\n",
    "# Save the Figure\n",
    "\n",
    "# Show the Figure\n",
    "# Generate the Plot (with Error Bars)\n",
    "Drugs = dff[[\"Capomulin\", \"Infubinol\", \"Ketapril\", \"Placebo\"]]\n",
    "\n",
    "x_axis = dff.index.values\n",
    "\n",
    "Cap_SEM = SEM_Met_df.loc[SEM_Met_df['Drug']=='Capomulin']\n",
    "Cap_SEM = Cap_SEM[\"SE_of_Metastatic Sites\"]\n",
    "Inf_SEM = SEM_Met_df.loc[SEM_Met_df['Drug']=='Infubinol']\n",
    "Inf_SEM = Inf_SEM[\"SE_of_Metastatic Sites\"]\n",
    "Ket_SEM = SEM_Met_df.loc[SEM_Met_df['Drug']=='Ketapril']\n",
    "Ket_SEM = Ket_SEM[\"SE_of_Metastatic Sites\"]\n",
    "Pla_SEM = SEM_Met_df.loc[SEM_Met_df['Drug']=='Placebo']\n",
    "Pla_SEM = Pla_SEM[\"SE_of_Metastatic Sites\"]\n",
    "\n",
    "Cap_MN = Drugs[\"Capomulin\"]\n",
    "Inf_MN = Drugs[\"Infubinol\"]\n",
    "Ket_MN = Drugs[\"Ketapril\"]\n",
    "Pla_MN = Drugs[\"Placebo\"]\n",
    "\n",
    "fig, ax = plt.subplots()\n",
    "#kwargs = dict(ecolor='k', color='k', capsize=2,\n",
    "              #elinewidth=1.1, linewidth=0.6, ms=7)\n",
    "\n",
    "ax.errorbar(x_axis, Cap_MN, Cap_SEM, fmt=\"o\",ls='-',linewidth=0.6,linestyle='dashed',elinewidth=0.95,markersize=5)\n",
    "ax.errorbar(x_axis, Inf_MN, Inf_SEM, fmt=\"x\",ls='-',linewidth=0.6,linestyle='dashed',elinewidth=0.95,markersize=5)\n",
    "ax.errorbar(x_axis, Ket_MN, Ket_SEM, fmt=\"*\",ls='-',linewidth=0.6,linestyle='dashed',elinewidth=0.95,markersize=5)\n",
    "ax.errorbar(x_axis, Pla_MN, Pla_SEM, fmt=\"^\",ls='-',linewidth=0.6,linestyle='dashed',elinewidth=0.95,markersize=5)\n",
    "\n",
    "# Adding legend to the plot    \n",
    "ax.legend(loc='best', frameon=True)\n",
    "ax.set_title('Metastatic Spread During Treatment', fontsize=12)\n",
    "ax.set_xlabel('Treatment Duration (Days)', fontsize=10)\n",
    "ax.set_ylabel('Met.Sites', fontsize=10)\n",
    "ax.grid(True)\n",
    "plt.savefig(\"Metastatic Spread During Treatment\")\n",
    "plt.show()"
   ]
  },
  {
   "cell_type": "code",
   "execution_count": null,
   "metadata": {},
   "outputs": [],
   "source": []
  },
  {
   "cell_type": "markdown",
   "metadata": {},
   "source": [
    "## Survival Rates"
   ]
  },
  {
   "cell_type": "code",
   "execution_count": 81,
   "metadata": {},
   "outputs": [
    {
     "data": {
      "text/html": [
       "<div>\n",
       "<style scoped>\n",
       "    .dataframe tbody tr th:only-of-type {\n",
       "        vertical-align: middle;\n",
       "    }\n",
       "\n",
       "    .dataframe tbody tr th {\n",
       "        vertical-align: top;\n",
       "    }\n",
       "\n",
       "    .dataframe thead th {\n",
       "        text-align: right;\n",
       "    }\n",
       "</style>\n",
       "<table border=\"1\" class=\"dataframe\">\n",
       "  <thead>\n",
       "    <tr style=\"text-align: right;\">\n",
       "      <th></th>\n",
       "      <th>Drug</th>\n",
       "      <th>Timepoint</th>\n",
       "      <th>Mouse_Count</th>\n",
       "    </tr>\n",
       "  </thead>\n",
       "  <tbody>\n",
       "    <tr>\n",
       "      <th>0</th>\n",
       "      <td>Capomulin</td>\n",
       "      <td>0</td>\n",
       "      <td>25</td>\n",
       "    </tr>\n",
       "    <tr>\n",
       "      <th>1</th>\n",
       "      <td>Capomulin</td>\n",
       "      <td>5</td>\n",
       "      <td>25</td>\n",
       "    </tr>\n",
       "    <tr>\n",
       "      <th>2</th>\n",
       "      <td>Capomulin</td>\n",
       "      <td>10</td>\n",
       "      <td>25</td>\n",
       "    </tr>\n",
       "    <tr>\n",
       "      <th>3</th>\n",
       "      <td>Capomulin</td>\n",
       "      <td>15</td>\n",
       "      <td>24</td>\n",
       "    </tr>\n",
       "    <tr>\n",
       "      <th>4</th>\n",
       "      <td>Capomulin</td>\n",
       "      <td>20</td>\n",
       "      <td>23</td>\n",
       "    </tr>\n",
       "    <tr>\n",
       "      <th>5</th>\n",
       "      <td>Capomulin</td>\n",
       "      <td>25</td>\n",
       "      <td>22</td>\n",
       "    </tr>\n",
       "    <tr>\n",
       "      <th>6</th>\n",
       "      <td>Capomulin</td>\n",
       "      <td>30</td>\n",
       "      <td>22</td>\n",
       "    </tr>\n",
       "    <tr>\n",
       "      <th>7</th>\n",
       "      <td>Capomulin</td>\n",
       "      <td>35</td>\n",
       "      <td>22</td>\n",
       "    </tr>\n",
       "    <tr>\n",
       "      <th>8</th>\n",
       "      <td>Capomulin</td>\n",
       "      <td>40</td>\n",
       "      <td>21</td>\n",
       "    </tr>\n",
       "    <tr>\n",
       "      <th>9</th>\n",
       "      <td>Capomulin</td>\n",
       "      <td>45</td>\n",
       "      <td>21</td>\n",
       "    </tr>\n",
       "    <tr>\n",
       "      <th>10</th>\n",
       "      <td>Ceftamin</td>\n",
       "      <td>0</td>\n",
       "      <td>25</td>\n",
       "    </tr>\n",
       "    <tr>\n",
       "      <th>11</th>\n",
       "      <td>Ceftamin</td>\n",
       "      <td>5</td>\n",
       "      <td>21</td>\n",
       "    </tr>\n",
       "    <tr>\n",
       "      <th>12</th>\n",
       "      <td>Ceftamin</td>\n",
       "      <td>10</td>\n",
       "      <td>20</td>\n",
       "    </tr>\n",
       "    <tr>\n",
       "      <th>13</th>\n",
       "      <td>Ceftamin</td>\n",
       "      <td>15</td>\n",
       "      <td>19</td>\n",
       "    </tr>\n",
       "    <tr>\n",
       "      <th>14</th>\n",
       "      <td>Ceftamin</td>\n",
       "      <td>20</td>\n",
       "      <td>18</td>\n",
       "    </tr>\n",
       "    <tr>\n",
       "      <th>15</th>\n",
       "      <td>Ceftamin</td>\n",
       "      <td>25</td>\n",
       "      <td>18</td>\n",
       "    </tr>\n",
       "    <tr>\n",
       "      <th>16</th>\n",
       "      <td>Ceftamin</td>\n",
       "      <td>30</td>\n",
       "      <td>16</td>\n",
       "    </tr>\n",
       "    <tr>\n",
       "      <th>17</th>\n",
       "      <td>Ceftamin</td>\n",
       "      <td>35</td>\n",
       "      <td>14</td>\n",
       "    </tr>\n",
       "    <tr>\n",
       "      <th>18</th>\n",
       "      <td>Ceftamin</td>\n",
       "      <td>40</td>\n",
       "      <td>14</td>\n",
       "    </tr>\n",
       "    <tr>\n",
       "      <th>19</th>\n",
       "      <td>Ceftamin</td>\n",
       "      <td>45</td>\n",
       "      <td>13</td>\n",
       "    </tr>\n",
       "    <tr>\n",
       "      <th>20</th>\n",
       "      <td>Infubinol</td>\n",
       "      <td>0</td>\n",
       "      <td>25</td>\n",
       "    </tr>\n",
       "    <tr>\n",
       "      <th>21</th>\n",
       "      <td>Infubinol</td>\n",
       "      <td>5</td>\n",
       "      <td>25</td>\n",
       "    </tr>\n",
       "    <tr>\n",
       "      <th>22</th>\n",
       "      <td>Infubinol</td>\n",
       "      <td>10</td>\n",
       "      <td>21</td>\n",
       "    </tr>\n",
       "    <tr>\n",
       "      <th>23</th>\n",
       "      <td>Infubinol</td>\n",
       "      <td>15</td>\n",
       "      <td>21</td>\n",
       "    </tr>\n",
       "    <tr>\n",
       "      <th>24</th>\n",
       "      <td>Infubinol</td>\n",
       "      <td>20</td>\n",
       "      <td>20</td>\n",
       "    </tr>\n",
       "    <tr>\n",
       "      <th>25</th>\n",
       "      <td>Infubinol</td>\n",
       "      <td>25</td>\n",
       "      <td>18</td>\n",
       "    </tr>\n",
       "    <tr>\n",
       "      <th>26</th>\n",
       "      <td>Infubinol</td>\n",
       "      <td>30</td>\n",
       "      <td>17</td>\n",
       "    </tr>\n",
       "    <tr>\n",
       "      <th>27</th>\n",
       "      <td>Infubinol</td>\n",
       "      <td>35</td>\n",
       "      <td>12</td>\n",
       "    </tr>\n",
       "    <tr>\n",
       "      <th>28</th>\n",
       "      <td>Infubinol</td>\n",
       "      <td>40</td>\n",
       "      <td>10</td>\n",
       "    </tr>\n",
       "    <tr>\n",
       "      <th>29</th>\n",
       "      <td>Infubinol</td>\n",
       "      <td>45</td>\n",
       "      <td>9</td>\n",
       "    </tr>\n",
       "  </tbody>\n",
       "</table>\n",
       "</div>"
      ],
      "text/plain": [
       "         Drug  Timepoint  Mouse_Count\n",
       "0   Capomulin          0           25\n",
       "1   Capomulin          5           25\n",
       "2   Capomulin         10           25\n",
       "3   Capomulin         15           24\n",
       "4   Capomulin         20           23\n",
       "5   Capomulin         25           22\n",
       "6   Capomulin         30           22\n",
       "7   Capomulin         35           22\n",
       "8   Capomulin         40           21\n",
       "9   Capomulin         45           21\n",
       "10   Ceftamin          0           25\n",
       "11   Ceftamin          5           21\n",
       "12   Ceftamin         10           20\n",
       "13   Ceftamin         15           19\n",
       "14   Ceftamin         20           18\n",
       "15   Ceftamin         25           18\n",
       "16   Ceftamin         30           16\n",
       "17   Ceftamin         35           14\n",
       "18   Ceftamin         40           14\n",
       "19   Ceftamin         45           13\n",
       "20  Infubinol          0           25\n",
       "21  Infubinol          5           25\n",
       "22  Infubinol         10           21\n",
       "23  Infubinol         15           21\n",
       "24  Infubinol         20           20\n",
       "25  Infubinol         25           18\n",
       "26  Infubinol         30           17\n",
       "27  Infubinol         35           12\n",
       "28  Infubinol         40           10\n",
       "29  Infubinol         45            9"
      ]
     },
     "execution_count": 81,
     "metadata": {},
     "output_type": "execute_result"
    }
   ],
   "source": [
    "# Store the Count of Mice Grouped by Drug and Timepoint (W can pass any metric)\n",
    "Mouse_Count  = combined.groupby([\"Drug\",\"Timepoint\"])[\"Mouse ID\"].count()\n",
    "# Convert to DataFrame\n",
    "Mouse_df = Mouse_Count.to_frame()\n",
    "Mouse_df = Mouse_df.rename(columns={\"Mouse ID\":\"Mouse_Count\"})\n",
    "Mouse_df = Mouse_df.reset_index()\n",
    "Mouse_df.head(30)\n",
    "# Preview DataFrame\n"
   ]
  },
  {
   "cell_type": "code",
   "execution_count": null,
   "metadata": {},
   "outputs": [],
   "source": []
  },
  {
   "cell_type": "code",
   "execution_count": 52,
   "metadata": {},
   "outputs": [
    {
     "data": {
      "text/html": [
       "<div>\n",
       "<style scoped>\n",
       "    .dataframe tbody tr th:only-of-type {\n",
       "        vertical-align: middle;\n",
       "    }\n",
       "\n",
       "    .dataframe tbody tr th {\n",
       "        vertical-align: top;\n",
       "    }\n",
       "\n",
       "    .dataframe thead th {\n",
       "        text-align: right;\n",
       "    }\n",
       "</style>\n",
       "<table border=\"1\" class=\"dataframe\">\n",
       "  <thead>\n",
       "    <tr style=\"text-align: right;\">\n",
       "      <th>Drug</th>\n",
       "      <th>Capomulin</th>\n",
       "      <th>Ceftamin</th>\n",
       "      <th>Infubinol</th>\n",
       "      <th>Ketapril</th>\n",
       "      <th>Naftisol</th>\n",
       "      <th>Placebo</th>\n",
       "      <th>Propriva</th>\n",
       "      <th>Ramicane</th>\n",
       "      <th>Stelasyn</th>\n",
       "      <th>Zoniferol</th>\n",
       "    </tr>\n",
       "    <tr>\n",
       "      <th>Timepoint</th>\n",
       "      <th></th>\n",
       "      <th></th>\n",
       "      <th></th>\n",
       "      <th></th>\n",
       "      <th></th>\n",
       "      <th></th>\n",
       "      <th></th>\n",
       "      <th></th>\n",
       "      <th></th>\n",
       "      <th></th>\n",
       "    </tr>\n",
       "  </thead>\n",
       "  <tbody>\n",
       "    <tr>\n",
       "      <th>0</th>\n",
       "      <td>25</td>\n",
       "      <td>25</td>\n",
       "      <td>25</td>\n",
       "      <td>25</td>\n",
       "      <td>25</td>\n",
       "      <td>25</td>\n",
       "      <td>26</td>\n",
       "      <td>25</td>\n",
       "      <td>26</td>\n",
       "      <td>25</td>\n",
       "    </tr>\n",
       "    <tr>\n",
       "      <th>5</th>\n",
       "      <td>25</td>\n",
       "      <td>21</td>\n",
       "      <td>25</td>\n",
       "      <td>23</td>\n",
       "      <td>23</td>\n",
       "      <td>24</td>\n",
       "      <td>25</td>\n",
       "      <td>25</td>\n",
       "      <td>25</td>\n",
       "      <td>24</td>\n",
       "    </tr>\n",
       "    <tr>\n",
       "      <th>10</th>\n",
       "      <td>25</td>\n",
       "      <td>20</td>\n",
       "      <td>21</td>\n",
       "      <td>22</td>\n",
       "      <td>21</td>\n",
       "      <td>24</td>\n",
       "      <td>23</td>\n",
       "      <td>24</td>\n",
       "      <td>23</td>\n",
       "      <td>22</td>\n",
       "    </tr>\n",
       "  </tbody>\n",
       "</table>\n",
       "</div>"
      ],
      "text/plain": [
       "Drug       Capomulin  Ceftamin  Infubinol  Ketapril  Naftisol  Placebo  \\\n",
       "Timepoint                                                                \n",
       "0                 25        25         25        25        25       25   \n",
       "5                 25        21         25        23        23       24   \n",
       "10                25        20         21        22        21       24   \n",
       "\n",
       "Drug       Propriva  Ramicane  Stelasyn  Zoniferol  \n",
       "Timepoint                                           \n",
       "0                26        25        26         25  \n",
       "5                25        25        25         24  \n",
       "10               23        24        23         22  "
      ]
     },
     "execution_count": 52,
     "metadata": {},
     "output_type": "execute_result"
    },
    {
     "data": {
      "text/plain": [
       "Index(['Capomulin', 'Ceftamin', 'Infubinol', 'Ketapril', 'Naftisol', 'Placebo',\n",
       "       'Propriva', 'Ramicane', 'Stelasyn', 'Zoniferol'],\n",
       "      dtype='object', name='Drug')"
      ]
     },
     "execution_count": 52,
     "metadata": {},
     "output_type": "execute_result"
    },
    {
     "data": {
      "text/plain": [
       "Int64Index([0, 5, 10, 15, 20, 25, 30, 35, 40, 45], dtype='int64', name='Timepoint')"
      ]
     },
     "execution_count": 52,
     "metadata": {},
     "output_type": "execute_result"
    }
   ],
   "source": [
    "# Minor Data Munging to Re-Format the Data Frames\n",
    "Mouse_dff = Mouse_df.pivot(index='Timepoint',columns='Drug',values='Mouse_Count')\n",
    "Mouse_dff.head(3)\n",
    "Mouse_dff.columns\n",
    "Mouse_dff.index\n",
    "# Preview the Data Frame\n"
   ]
  },
  {
   "cell_type": "code",
   "execution_count": null,
   "metadata": {
    "scrolled": true
   },
   "outputs": [],
   "source": []
  },
  {
   "cell_type": "code",
   "execution_count": 51,
   "metadata": {},
   "outputs": [
    {
     "data": {
      "text/plain": [
       "array([ 0,  5, 10, 15, 20, 25, 30, 35, 40, 45], dtype=int64)"
      ]
     },
     "execution_count": 51,
     "metadata": {},
     "output_type": "execute_result"
    },
    {
     "data": {
      "text/plain": [
       "<matplotlib.legend.Legend at 0x20c6d479e48>"
      ]
     },
     "execution_count": 51,
     "metadata": {},
     "output_type": "execute_result"
    },
    {
     "data": {
      "text/plain": [
       "Text(0.5, 1.0, 'Survival During Drug Treatment')"
      ]
     },
     "execution_count": 51,
     "metadata": {},
     "output_type": "execute_result"
    },
    {
     "data": {
      "text/plain": [
       "Text(0.5, 0, 'Time (Days)')"
      ]
     },
     "execution_count": 51,
     "metadata": {},
     "output_type": "execute_result"
    },
    {
     "data": {
      "text/plain": [
       "Text(0, 0.5, 'Survival Rate (%)')"
      ]
     },
     "execution_count": 51,
     "metadata": {},
     "output_type": "execute_result"
    },
    {
     "data": {
      "image/png": "[encoded data removed]",
      "text/plain": [
       "<Figure size 432x288 with 1 Axes>"
      ]
     },
     "metadata": {
      "needs_background": "light"
     },
     "output_type": "display_data"
    }
   ],
   "source": [
    "# Generate the Plot (Accounting for percentages)\n",
    "x_axis = Mouse_dff.index.values\n",
    "x_axis\n",
    "\n",
    "#Mouse_Percentage = Mouse_dff.loc[Mouse_dff['Drug']=='Capomulin']/Mouse_dff['Capomulin'].sum()\n",
    "Mouse_Cap = 100*(Mouse_dff['Capomulin'] /Mouse_dff['Capomulin'].max())\n",
    "Mouse_Inf = 100*(Mouse_dff['Infubinol'] /Mouse_dff['Infubinol'].max())\n",
    "Mouse_Ket = 100*(Mouse_dff['Ketapril'] /Mouse_dff['Ketapril'].max())\n",
    "Mouse_Pla = 100*(Mouse_dff['Placebo'] /Mouse_dff['Placebo'].max())\n",
    "\n",
    "#Cap_SEM = Cap_SEM[\"SE_of_Metastatic Sites\"]\n",
    "Mouse_C = plt.plot(x_axis, Mouse_Cap, marker=\"o\", linewidth=1, label=\"Capomulin\")\n",
    "Mouse_I = plt.plot(x_axis, Mouse_Inf, marker=\"x\", linewidth=1, label=\"Infubinol\")\n",
    "Mouse_K = plt.plot(x_axis, Mouse_Ket, marker=\"*\", linewidth=1, label=\"Ketapril\")\n",
    "Mouse_P = plt.plot(x_axis, Mouse_Pla, marker=\"^\", linewidth=1, label=\"Placebo\")\n",
    "\n",
    "plt.legend(loc='best', frameon=True)\n",
    "plt.title('Survival During Drug Treatment', fontsize=12)\n",
    "plt.xlabel('Time (Days)', fontsize=10)\n",
    "plt.ylabel('Survival Rate (%)', fontsize=10)\n",
    "plt.grid(True)\n",
    "plt.savefig(\"Survival During Drug Treatment\")\n",
    "plt.show()"
   ]
  },
  {
   "cell_type": "code",
   "execution_count": null,
   "metadata": {},
   "outputs": [],
   "source": []
  },
  {
   "cell_type": "markdown",
   "metadata": {},
   "source": [
    "## Summary Bar Graph"
   ]
  },
  {
   "cell_type": "code",
   "execution_count": 158,
   "metadata": {},
   "outputs": [
    {
     "data": {
      "text/plain": [
       "Drug\n",
       "Capomulin   -19.475303\n",
       "Ceftamin     42.516492\n",
       "Infubinol    46.123472\n",
       "Ketapril     57.028795\n",
       "Naftisol     53.923347\n",
       "Placebo      51.297960\n",
       "Propriva     47.241175\n",
       "Ramicane    -22.320900\n",
       "Stelasyn     52.085134\n",
       "Zoniferol    46.579751\n",
       "Name: 45, dtype: float64"
      ]
     },
     "execution_count": 158,
     "metadata": {},
     "output_type": "execute_result"
    },
    {
     "data": {
      "text/plain": [
       "Drug\n",
       "Capomulin   -19.475303\n",
       "Ceftamin     42.516492\n",
       "Infubinol    46.123472\n",
       "Ketapril     57.028795\n",
       "Naftisol     53.923347\n",
       "Name: 45, dtype: float64"
      ]
     },
     "execution_count": 158,
     "metadata": {},
     "output_type": "execute_result"
    }
   ],
   "source": [
    "summary = pd.merge(clinical_data,mouse_data, how = \"left\",\n",
    "                   on=[\"Mouse ID\", \"Mouse ID\"])\n",
    "\n",
    "P_Tumor = summary.groupby([\"Drug\",\"Timepoint\"])[\"Tumor Volume (mm3)\"].mean()\n",
    "P_Tumor = P_Tumor.to_frame()\n",
    "P_Tumor = P_Tumor.reset_index()\n",
    "\n",
    "P_Tumor = P_Tumor.pivot(index='Timepoint',columns='Drug',values='Tumor Volume (mm3)')\n",
    "\n",
    "Pct_Tumor = P_Tumor.pct_change(periods =9)*100\n",
    "Values = Pct_Tumor.iloc[9]\n",
    "Values\n",
    "Values.head()"
   ]
  },
  {
   "cell_type": "code",
   "execution_count": 181,
   "metadata": {},
   "outputs": [
    {
     "data": {
      "text/plain": [
       "-19"
      ]
     },
     "execution_count": 181,
     "metadata": {},
     "output_type": "execute_result"
    },
    {
     "data": {
      "text/plain": [
       "46"
      ]
     },
     "execution_count": 181,
     "metadata": {},
     "output_type": "execute_result"
    },
    {
     "data": {
      "text/plain": [
       "<BarContainer object of 1 artists>"
      ]
     },
     "execution_count": 181,
     "metadata": {},
     "output_type": "execute_result"
    },
    {
     "data": {
      "text/plain": [
       "<BarContainer object of 1 artists>"
      ]
     },
     "execution_count": 181,
     "metadata": {},
     "output_type": "execute_result"
    },
    {
     "data": {
      "text/plain": [
       "<BarContainer object of 1 artists>"
      ]
     },
     "execution_count": 181,
     "metadata": {},
     "output_type": "execute_result"
    },
    {
     "data": {
      "text/plain": [
       "<BarContainer object of 1 artists>"
      ]
     },
     "execution_count": 181,
     "metadata": {},
     "output_type": "execute_result"
    },
    {
     "data": {
      "text/plain": [
       "Text(0.5, 1.0, 'Tumor Change Over 45 Day Treatment')"
      ]
     },
     "execution_count": 181,
     "metadata": {},
     "output_type": "execute_result"
    },
    {
     "data": {
      "text/plain": [
       "Text(0, 0.5, '%Tumor Volume Change')"
      ]
     },
     "execution_count": 181,
     "metadata": {},
     "output_type": "execute_result"
    },
    {
     "data": {
      "image/png": "[encoded data removed]",
      "text/plain": [
       "<Figure size 432x288 with 1 Axes>"
      ]
     },
     "metadata": {
      "needs_background": "light"
     },
     "output_type": "display_data"
    }
   ],
   "source": [
    "#Values = Values.to_frame()\n",
    "\n",
    "Bar_index = Values.index.values\n",
    "Drugs = Bar_index[[0,2,3,5]]\n",
    "\n",
    "Cap = (Values.loc['Capomulin']).astype(int)\n",
    "Inf = (Values.loc['Infubinol']).astype(int)\n",
    "Ket = (Values.loc['Ketapril']).astype(int)\n",
    "Pla = (Values.loc['Placebo']).astype(int)\n",
    "Cap\n",
    "Inf\n",
    "Percents = [[Cap,Inf,Ket,Pla]]\n",
    "\n",
    "plt.bar(x = Drugs[0], height = Cap, align = 'right', color = 'green')\n",
    "plt.bar(x = Drugs[1], height = Inf, align = 'right', color = 'red')\n",
    "plt.bar(x = Drugs[2], height = Ket, align = 'right', color = 'red')\n",
    "plt.bar(x = Drugs[3], height = Pla, align = 'right', color = 'red')\n",
    "\n",
    "plt.title('Tumor Change Over 45 Day Treatment', fontsize=12)\n",
    "plt.ylabel('%Tumor Volume Change', fontsize=10)\n",
    "plt.grid(True)\n",
    "plt.savefig(\"Tumor Change Over 45 Day Treatment\")\n",
    "plt.show()\n"
   ]
  },
  {
   "cell_type": "code",
   "execution_count": null,
   "metadata": {},
   "outputs": [],
   "source": [
    "# Store all Relevant Percent Changes into a Tuple\n",
    "\n",
    "\n",
    "# Splice the data between passing and failing drugs\n",
    "\n",
    "\n",
    "# Orient widths. Add labels, tick marks, etc. \n",
    "\n",
    "\n",
    "# Use functions to label the percentages of changes\n",
    "\n",
    "\n",
    "# Call functions to implement the function calls\n",
    "\n",
    "\n",
    "# Save the Figure\n",
    "\n",
    "\n",
    "# Show the Figure\n",
    "fig.show()"
   ]
  },
  {
   "cell_type": "code",
   "execution_count": null,
   "metadata": {},
   "outputs": [],
   "source": []
  },
  {
   "cell_type": "code",
   "execution_count": null,
   "metadata": {},
   "outputs": [],
   "source": []
  }
 ],
 "metadata": {
  "anaconda-cloud": {},
  "kernelspec": {
   "display_name": "Python 3",
   "language": "python",
   "name": "python3"
  },
  "language_info": {
   "codemirror_mode": {
    "name": "ipython",
    "version": 3
   },
   "file_extension": ".py",
   "mimetype": "text/x-python",
   "name": "python",
   "nbconvert_exporter": "python",
   "pygments_lexer": "ipython3",
   "version": "3.6.6"
  }
 },
 "nbformat": 4,
 "nbformat_minor": 1
}
